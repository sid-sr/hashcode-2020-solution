{
 "cells": [
  {
   "cell_type": "markdown",
   "metadata": {
    "colab_type": "text",
    "id": "Jdr7tmEI_BHM"
   },
   "source": [
    "# Google Hash Code 2020 Solution\n",
    "---\n",
    "\n",
    "[Contest Page](https://hashcodejudge.withgoogle.com/)\n",
    "\n",
    "**Question:** Book Scanning<br>\n",
    "**Description:** The aim of this problem is to find an optimal way to scan books from multiple libraries that ensures maximum score.<br>\n",
    "**Techniques Used:** Greedy approach and Sorting <br>\n",
    "**Coded by:** Siddharth Sriraman, Vanathi G, Aditya Krishna P, Venkataraman N<br>"
   ]
  },
  {
   "cell_type": "code",
   "execution_count": 1,
   "metadata": {
    "colab": {
     "base_uri": "https://localhost:8080/",
     "height": 34
    },
    "colab_type": "code",
    "executionInfo": {
     "elapsed": 2445,
     "status": "ok",
     "timestamp": 1582293108916,
     "user": {
      "displayName": "Siddharth Sriraman",
      "photoUrl": "https://lh3.googleusercontent.com/a-/AAuE7mAgdl3Vk8ZkXb7ZDD_GYUPVsvnS0UMet3XZYWYvTw=s64",
      "userId": "09350500141138567890"
     },
     "user_tz": -330
    },
    "id": "MOr6MfHZAYY3",
    "outputId": "e2dc417b-0e1f-4c93-cc55-f6099b3077ab",
    "scrolled": true
   },
   "outputs": [
    {
     "name": "stdout",
     "output_type": "stream",
     "text": [
      "Python 3.7.4\n"
     ]
    }
   ],
   "source": [
    "!python --version"
   ]
  },
  {
   "cell_type": "markdown",
   "metadata": {},
   "source": [
    "# Table of Contents:\n",
    "---\n",
    "**Links:**\n",
    "\n",
    "1.   Global variables and Dependencies\n",
    "2.   Class Definition\n",
    "3.   Parsing the Input File\n",
    "4.   Main Logic\n",
    "5.   Formatting Output and Writing to File\n",
    "\n",
    "**Final Score**: \n",
    "* Total Score: 25,391,844\n",
    "* Leaderboard Position: 1826 \n",
    "---"
   ]
  },
  {
   "cell_type": "markdown",
   "metadata": {},
   "source": [
    "# 1. Global variables and Dependencies\n",
    "---"
   ]
  },
  {
   "cell_type": "code",
   "execution_count": 2,
   "metadata": {
    "colab": {
     "base_uri": "https://localhost:8080/",
     "height": 34
    },
    "colab_type": "code",
    "executionInfo": {
     "elapsed": 911,
     "status": "ok",
     "timestamp": 1582293024086,
     "user": {
      "displayName": "Siddharth Sriraman",
      "photoUrl": "https://lh3.googleusercontent.com/a-/AAuE7mAgdl3Vk8ZkXb7ZDD_GYUPVsvnS0UMet3XZYWYvTw=s64",
      "userId": "09350500141138567890"
     },
     "user_tz": -330
    },
    "id": "hVe-oYjh5Lgb",
    "outputId": "429b740f-89db-41a2-9391-082989ebb2bd"
   },
   "outputs": [
    {
     "name": "stdout",
     "output_type": "stream",
     "text": [
      "1.17.2\n"
     ]
    }
   ],
   "source": [
    "# dependencies\n",
    "import numpy as np\n",
    "import tqdm"
   ]
  },
  {
   "cell_type": "code",
   "execution_count": 10,
   "metadata": {
    "colab": {},
    "colab_type": "code",
    "id": "Wf93UNJz5Lgl"
   },
   "outputs": [],
   "source": [
    "# input files\n",
    "files = ['a_example.txt',\n",
    "         'b_read_on.txt', \n",
    "         'c_incunabula.txt', \n",
    "         'd_tough_choices.txt', \n",
    "         'e_so_many_books.txt',\n",
    "         'f_libraries_of_the_world.txt']"
   ]
  },
  {
   "cell_type": "markdown",
   "metadata": {},
   "source": [
    "# 2. Class Definition\n",
    "---"
   ]
  },
  {
   "cell_type": "code",
   "execution_count": 3,
   "metadata": {
    "colab": {},
    "colab_type": "code",
    "id": "vbUyYt2i5Lgr"
   },
   "outputs": [],
   "source": [
    "# The object in the library array:\n",
    "class Lib(object):   \n",
    "    book_scores = [] # static for a given task \n",
    "\n",
    "    def __init__(self, num_books, days_to_proc, books_per_day, ids, no):\n",
    "        self.no = no                                                         # library number\n",
    "        self.num_books = num_books\n",
    "        self.days_to_proc = days_to_proc\n",
    "        self.books_per_day = books_per_day\n",
    "        self.ids = np.array(ids)                                             # ids of the books in that library\n",
    "        self.scores = Lib.book_scores[self.ids].sum()\n",
    "        self.greedy_sc = self.scores * self.books_per_day/self.days_to_proc  # must make this dynamic \n",
    "    \n",
    "    # magic method for sorting\n",
    "    def __lt__(self, lib):\n",
    "        if self.greedy_sc < lib.greedy_sc:\n",
    "            return False\n",
    "        return True"
   ]
  },
  {
   "cell_type": "markdown",
   "metadata": {},
   "source": [
    "# 3. Parsing the Input File\n",
    "---"
   ]
  },
  {
   "cell_type": "code",
   "execution_count": 4,
   "metadata": {
    "colab": {},
    "colab_type": "code",
    "id": "M43SxFNE5Lgw"
   },
   "outputs": [],
   "source": [
    "def proc_data(file_name):\n",
    "    file = open(file_name)\n",
    "    libs = []\n",
    "    \n",
    "    tot_books, num_lib, tot_days = map(int, file.readline().split())\n",
    "    book_scores = np.array(list(map(int, file.readline().split())))\n",
    "    Lib.book_scores = book_scores\n",
    "    \n",
    "    for index in range(num_lib):\n",
    "        num_b, days, rate = list(map(int, file.readline().split()))\n",
    "        # reverse sort on score of book\n",
    "        id_arr = sorted(list(map(int, file.readline().split())), key=lambda x: book_scores[x], reverse=True)\n",
    "        libs.append(Lib(num_b, days, rate, id_arr, index))\n",
    "\n",
    "    return tot_books, num_lib, tot_days, book_scores, np.array(libs)"
   ]
  },
  {
   "cell_type": "markdown",
   "metadata": {},
   "source": [
    "# 4. Main Logic\n",
    "---\n",
    "\n",
    "### Improvements to be made:\n",
    "\n",
    "1.   Dynamic updation of the greedy parameter based on visited array\n",
    "2.   Dynamic sorting of Library array\n",
    "3.   Optimising runtime and space using Pythran"
   ]
  },
  {
   "cell_type": "code",
   "execution_count": 5,
   "metadata": {},
   "outputs": [],
   "source": [
    "def proc_books(days_to_proc, books_per_day, num_books, ids, tot_days, tot_books):\n",
    "    no_of_books = min((tot_days - days_to_proc) * books_per_day, num_books)\n",
    "    books, count, index, c = [0 for i in range(num_books)], 0, 0, 0\n",
    "    visited = np.zeros(tot_books+1)\n",
    "    \n",
    "    while no_of_books > 0 and index < num_books:\n",
    "        if not visited[ids[index]]:\n",
    "            books[c] = ids[index]\n",
    "            c += 1\n",
    "            visited[ids[index]] = 1\n",
    "            no_of_books -= 1\n",
    "            count += 1\n",
    "        index += 1\n",
    "        \n",
    "    return count, books, c"
   ]
  },
  {
   "cell_type": "code",
   "execution_count": 6,
   "metadata": {},
   "outputs": [],
   "source": [
    "def proc_lib(tot_books, num_lib, tot_days, book_scores, libs):\n",
    "    libs.sort() # greedy sort\n",
    "    op, num_libs = [], 0\n",
    "    \n",
    "    for lib in libs:\n",
    "        \n",
    "        count, books, c = proc_books(lib.days_to_proc, lib.books_per_day, lib.num_books, lib.ids, tot_days, tot_books)\n",
    "        num = str(lib.no) + ' ' + str(count) + '\\n'\n",
    "        if count:\n",
    "            op.append(num)\n",
    "            op.append(' '.join(map(str, books[:c])) + '\\n')\n",
    "            num_libs += 1\n",
    "        tot_days -= lib.days_to_proc\n",
    "        if tot_days <= 0: break\n",
    "    \n",
    "    return num_libs, op"
   ]
  },
  {
   "cell_type": "markdown",
   "metadata": {},
   "source": [
    "# 5. Formatting Output and Writing to File\n",
    "---"
   ]
  },
  {
   "cell_type": "code",
   "execution_count": 7,
   "metadata": {
    "colab": {},
    "colab_type": "code",
    "id": "oqGIG3-z5Lg1"
   },
   "outputs": [],
   "source": [
    "def gen_op(file_name):\n",
    "    tot_books, num_lib, tot_days, book_scores, libs = proc_data(file_name)\n",
    "    return proc_lib(tot_books, num_lib, tot_days, book_scores, libs)"
   ]
  },
  {
   "cell_type": "code",
   "execution_count": 11,
   "metadata": {
    "colab": {
     "base_uri": "https://localhost:8080/",
     "height": 150,
     "referenced_widgets": [
      "04d8bbe516e741e380a82fbdd53f1045",
      "0657a87ec7ac47ea89aa60827b2ec126",
      "d3a7294d43cc4bebbf43f07950e7d0c3",
      "138f9ae467434ddd9afd6a71b178b2b2",
      "6d175580d57f406498fdae25649a5f43",
      "80934ab581434e7fb04f493abcec9ff0",
      "7a6c91c094354a25bdfba489db3a64aa",
      "9021323955a3446bb659f455818641f9"
     ]
    },
    "colab_type": "code",
    "executionInfo": {
     "elapsed": 3870,
     "status": "ok",
     "timestamp": 1582292426297,
     "user": {
      "displayName": "Siddharth Sriraman",
      "photoUrl": "https://lh3.googleusercontent.com/a-/AAuE7mAgdl3Vk8ZkXb7ZDD_GYUPVsvnS0UMet3XZYWYvTw=s64",
      "userId": "09350500141138567890"
     },
     "user_tz": -330
    },
    "id": "Bd7Y6t3p5Lg7",
    "outputId": "e2a7f3bf-6802-4652-eb89-e19928a87b64",
    "scrolled": true
   },
   "outputs": [
    {
     "name": "stderr",
     "output_type": "stream",
     "text": [
      "c:\\users\\siddh\\appdata\\local\\programs\\python\\python37\\lib\\site-packages\\ipykernel_launcher.py:2: TqdmDeprecationWarning: This function will be removed in tqdm==5.0.0\n",
      "Please use `tqdm.notebook.tqdm` instead of `tqdm.tqdm_notebook`\n",
      "  \n"
     ]
    },
    {
     "data": {
      "application/vnd.jupyter.widget-view+json": {
       "model_id": "f7a8930f12f84fe38068b37ac61d305d",
       "version_major": 2,
       "version_minor": 0
      },
      "text/plain": [
       "HBox(children=(IntProgress(value=0, max=6), HTML(value='')))"
      ]
     },
     "metadata": {},
     "output_type": "display_data"
    },
    {
     "name": "stdout",
     "output_type": "stream",
     "text": [
      "\n",
      "Wall time: 5.64 s\n"
     ]
    }
   ],
   "source": [
    "# writing output:\n",
    "for file in tqdm.tqdm_notebook(files):\n",
    "    num_libs, op = gen_op(file)\n",
    "    final_op = [str(num_libs) + '\\n']\n",
    "    final_op.extend(op)\n",
    "    f = open(file[0] + '_op.txt', \"w+\")\n",
    "    f.writelines(final_op)\n",
    "    f.close()"
   ]
  }
 ],
 "metadata": {
  "colab": {
   "collapsed_sections": [],
   "name": "HashCodeA-Copy2-new-Copy1.ipynb",
   "provenance": []
  },
  "kernelspec": {
   "display_name": "Python 3",
   "language": "python",
   "name": "python3"
  },
  "language_info": {
   "codemirror_mode": {
    "name": "ipython",
    "version": 3
   },
   "file_extension": ".py",
   "mimetype": "text/x-python",
   "name": "python",
   "nbconvert_exporter": "python",
   "pygments_lexer": "ipython3",
   "version": "3.7.4"
  },
  "widgets": {
   "application/vnd.jupyter.widget-state+json": {
    "04d8bbe516e741e380a82fbdd53f1045": {
     "model_module": "@jupyter-widgets/controls",
     "model_name": "HBoxModel",
     "state": {
      "_dom_classes": [],
      "_model_module": "@jupyter-widgets/controls",
      "_model_module_version": "1.5.0",
      "_model_name": "HBoxModel",
      "_view_count": null,
      "_view_module": "@jupyter-widgets/controls",
      "_view_module_version": "1.5.0",
      "_view_name": "HBoxView",
      "box_style": "",
      "children": [
       "IPY_MODEL_d3a7294d43cc4bebbf43f07950e7d0c3",
       "IPY_MODEL_138f9ae467434ddd9afd6a71b178b2b2"
      ],
      "layout": "IPY_MODEL_0657a87ec7ac47ea89aa60827b2ec126"
     }
    },
    "0657a87ec7ac47ea89aa60827b2ec126": {
     "model_module": "@jupyter-widgets/base",
     "model_name": "LayoutModel",
     "state": {
      "_model_module": "@jupyter-widgets/base",
      "_model_module_version": "1.2.0",
      "_model_name": "LayoutModel",
      "_view_count": null,
      "_view_module": "@jupyter-widgets/base",
      "_view_module_version": "1.2.0",
      "_view_name": "LayoutView",
      "align_content": null,
      "align_items": null,
      "align_self": null,
      "border": null,
      "bottom": null,
      "display": null,
      "flex": null,
      "flex_flow": null,
      "grid_area": null,
      "grid_auto_columns": null,
      "grid_auto_flow": null,
      "grid_auto_rows": null,
      "grid_column": null,
      "grid_gap": null,
      "grid_row": null,
      "grid_template_areas": null,
      "grid_template_columns": null,
      "grid_template_rows": null,
      "height": null,
      "justify_content": null,
      "justify_items": null,
      "left": null,
      "margin": null,
      "max_height": null,
      "max_width": null,
      "min_height": null,
      "min_width": null,
      "object_fit": null,
      "object_position": null,
      "order": null,
      "overflow": null,
      "overflow_x": null,
      "overflow_y": null,
      "padding": null,
      "right": null,
      "top": null,
      "visibility": null,
      "width": null
     }
    },
    "138f9ae467434ddd9afd6a71b178b2b2": {
     "model_module": "@jupyter-widgets/controls",
     "model_name": "HTMLModel",
     "state": {
      "_dom_classes": [],
      "_model_module": "@jupyter-widgets/controls",
      "_model_module_version": "1.5.0",
      "_model_name": "HTMLModel",
      "_view_count": null,
      "_view_module": "@jupyter-widgets/controls",
      "_view_module_version": "1.5.0",
      "_view_name": "HTMLView",
      "description": "",
      "description_tooltip": null,
      "layout": "IPY_MODEL_9021323955a3446bb659f455818641f9",
      "placeholder": "​",
      "style": "IPY_MODEL_7a6c91c094354a25bdfba489db3a64aa",
      "value": "100% 6/6 [00:03&lt;00:00,  1.78it/s]"
     }
    },
    "6d175580d57f406498fdae25649a5f43": {
     "model_module": "@jupyter-widgets/controls",
     "model_name": "ProgressStyleModel",
     "state": {
      "_model_module": "@jupyter-widgets/controls",
      "_model_module_version": "1.5.0",
      "_model_name": "ProgressStyleModel",
      "_view_count": null,
      "_view_module": "@jupyter-widgets/base",
      "_view_module_version": "1.2.0",
      "_view_name": "StyleView",
      "bar_color": null,
      "description_width": ""
     }
    },
    "7a6c91c094354a25bdfba489db3a64aa": {
     "model_module": "@jupyter-widgets/controls",
     "model_name": "DescriptionStyleModel",
     "state": {
      "_model_module": "@jupyter-widgets/controls",
      "_model_module_version": "1.5.0",
      "_model_name": "DescriptionStyleModel",
      "_view_count": null,
      "_view_module": "@jupyter-widgets/base",
      "_view_module_version": "1.2.0",
      "_view_name": "StyleView",
      "description_width": ""
     }
    },
    "80934ab581434e7fb04f493abcec9ff0": {
     "model_module": "@jupyter-widgets/base",
     "model_name": "LayoutModel",
     "state": {
      "_model_module": "@jupyter-widgets/base",
      "_model_module_version": "1.2.0",
      "_model_name": "LayoutModel",
      "_view_count": null,
      "_view_module": "@jupyter-widgets/base",
      "_view_module_version": "1.2.0",
      "_view_name": "LayoutView",
      "align_content": null,
      "align_items": null,
      "align_self": null,
      "border": null,
      "bottom": null,
      "display": null,
      "flex": null,
      "flex_flow": null,
      "grid_area": null,
      "grid_auto_columns": null,
      "grid_auto_flow": null,
      "grid_auto_rows": null,
      "grid_column": null,
      "grid_gap": null,
      "grid_row": null,
      "grid_template_areas": null,
      "grid_template_columns": null,
      "grid_template_rows": null,
      "height": null,
      "justify_content": null,
      "justify_items": null,
      "left": null,
      "margin": null,
      "max_height": null,
      "max_width": null,
      "min_height": null,
      "min_width": null,
      "object_fit": null,
      "object_position": null,
      "order": null,
      "overflow": null,
      "overflow_x": null,
      "overflow_y": null,
      "padding": null,
      "right": null,
      "top": null,
      "visibility": null,
      "width": null
     }
    },
    "9021323955a3446bb659f455818641f9": {
     "model_module": "@jupyter-widgets/base",
     "model_name": "LayoutModel",
     "state": {
      "_model_module": "@jupyter-widgets/base",
      "_model_module_version": "1.2.0",
      "_model_name": "LayoutModel",
      "_view_count": null,
      "_view_module": "@jupyter-widgets/base",
      "_view_module_version": "1.2.0",
      "_view_name": "LayoutView",
      "align_content": null,
      "align_items": null,
      "align_self": null,
      "border": null,
      "bottom": null,
      "display": null,
      "flex": null,
      "flex_flow": null,
      "grid_area": null,
      "grid_auto_columns": null,
      "grid_auto_flow": null,
      "grid_auto_rows": null,
      "grid_column": null,
      "grid_gap": null,
      "grid_row": null,
      "grid_template_areas": null,
      "grid_template_columns": null,
      "grid_template_rows": null,
      "height": null,
      "justify_content": null,
      "justify_items": null,
      "left": null,
      "margin": null,
      "max_height": null,
      "max_width": null,
      "min_height": null,
      "min_width": null,
      "object_fit": null,
      "object_position": null,
      "order": null,
      "overflow": null,
      "overflow_x": null,
      "overflow_y": null,
      "padding": null,
      "right": null,
      "top": null,
      "visibility": null,
      "width": null
     }
    },
    "d3a7294d43cc4bebbf43f07950e7d0c3": {
     "model_module": "@jupyter-widgets/controls",
     "model_name": "IntProgressModel",
     "state": {
      "_dom_classes": [],
      "_model_module": "@jupyter-widgets/controls",
      "_model_module_version": "1.5.0",
      "_model_name": "IntProgressModel",
      "_view_count": null,
      "_view_module": "@jupyter-widgets/controls",
      "_view_module_version": "1.5.0",
      "_view_name": "ProgressView",
      "bar_style": "success",
      "description": "",
      "description_tooltip": null,
      "layout": "IPY_MODEL_80934ab581434e7fb04f493abcec9ff0",
      "max": 6,
      "min": 0,
      "orientation": "horizontal",
      "style": "IPY_MODEL_6d175580d57f406498fdae25649a5f43",
      "value": 6
     }
    }
   }
  }
 },
 "nbformat": 4,
 "nbformat_minor": 1
}
